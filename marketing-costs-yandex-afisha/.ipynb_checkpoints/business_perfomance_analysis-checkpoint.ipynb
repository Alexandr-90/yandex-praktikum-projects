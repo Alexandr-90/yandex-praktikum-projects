{
 "cells": [
  {
   "cell_type": "markdown",
   "metadata": {},
   "source": [
    "#  Оптимизация маркетинговых затрат в Яндекс.Афише"
   ]
  },
  {
   "cell_type": "markdown",
   "metadata": {},
   "source": [
    "Цель: ___помочь маркетологам оптимизировать маркетинговые затраты.___  \n",
    "\n",
    "У нас в распоряжении есть данные от Яндекс.Афиши с июня 2017 по конец мая 2018 года:  \n",
    "- лог сервера с данными о посещениях сайта Яндекс.Афиши,\n",
    "- выгрузка всех заказов за этот период,\n",
    "- статистика рекламных расходов.  \n",
    "\n",
    "Мы проанализируем:  \n",
    "- как люди пользуются продуктом,\n",
    "- когда они начинают покупать,\n",
    "- сколько денег приносит каждый клиент\n",
    "- когда клиент окупается.  \n",
    "\n",
    "#### План работы:\n",
    "\n",
    "[__Шаг 1. Загрузить данные и подготовить их к анализу__](#preparation).  \n",
    "\n",
    "Загрузить данные о визитах, заказах и расходах в переменные. Оптимизировать данные для анализа. Убедиться, что тип данных в каждой колонке — правильный. Путь к файлам:  \n",
    "- /datasets/visits_log.csv\n",
    "- /datasets/orders_log.csv\n",
    "- /datasets/costs.csv \n",
    "\n",
    "__Шаг 2. Построить отчёты и посчитайте метрики__  \n",
    "\n",
    "- [Продукт](#product)\n",
    "  - [Сколько людей пользуются в день, неделю, месяц?](#dau)\n",
    "  - [Сколько сессий в день?](#session_amount_per_day)\n",
    "  - [Сколько длится одна сессия?](#session_duration)\n",
    "  - [Как часто люди возвращаются?](#retention)  \n",
    "- [Продажи](#sales)\n",
    "  - [Когда люди начинают покупать?](#purchase_period)\n",
    "  - [Сколько раз покупают за период?](#orders_per_user)\n",
    "  - [Какой средний чек?](#aov)\n",
    "  - [Сколько денег приносят? (LTV)](#ltv)\n",
    "- [Маркетинг](#marketing)\n",
    "  - [Сколько денег потратили? Всего / на каждый источник / по времени](#costs_by_source)\n",
    "  - [Сколько стоило привлечение одного покупателя из каждого источника?](#cac_by_source)\n",
    "  - [На сколько окупились расходы? (ROI)](#romi)  \n",
    "  \n",
    "Отобразить на графиках, как эти метрики отличаются по устройствам и по рекламным источникам? Как они меняются во времени?  \n",
    "  \n",
    "__Шаг 3. Написать вывод: порекомендовать маркетологам, куда и сколько им стоит вкладывать денег?__  \n",
    "\n",
    "Какие источники/платформы? Объяснить свой выбор: на какие метрики мы ориентируемся? Почему? Какие выводы мы сделали, узнав значение метрик?\n",
    "___\n",
    "#### Описание данных\n",
    "Таблица visits (лог сервера с информацией о посещениях сайта):  \n",
    "- Uid — уникальный идентификатор пользователя\n",
    "- Device — категория устройства пользователя\n",
    "- Start Ts — дата и время начала сессии\n",
    "- End Ts — дата и время окончания сессии\n",
    "- Source Id — идентификатор рекламного источника, из которого пришел пользователь  \n",
    "\n",
    "Таблица orders (информация о заказах):  \n",
    "- Uid — уникальный id пользователя, который сделал заказ\n",
    "- Buy Ts — дата и время заказа\n",
    "- Revenue — выручка Яндекс.Афиши с этого заказа\n",
    "\n",
    "Таблица costs (информация о затратах на маркетинг):  \n",
    "- source_id — идентификатор рекламного источника\n",
    "- dt — дата\n",
    "- costs — затраты на этот рекламный источник в этот день"
   ]
  },
  {
   "cell_type": "code",
   "execution_count": 1,
   "metadata": {},
   "outputs": [],
   "source": [
    "import pandas as pd\n",
    "import matplotlib.pyplot as plt\n",
    "import numpy as np\n",
    "import seaborn as sns\n",
    "sns.set(style=\"whitegrid\")\n",
    "sns.set_palette(\"hls\", 8)\n",
    "from IPython.display import display, HTML\n",
    "class color:\n",
    "   PURPLE = '\\033[95m'\n",
    "   CYAN = '\\033[96m'\n",
    "   DARKCYAN = '\\033[36m'\n",
    "   BLUE = '\\033[94m'\n",
    "   GREEN = '\\033[92m'\n",
    "   YELLOW = '\\033[93m'\n",
    "   RED = '\\033[91m'\n",
    "   BOLD = '\\033[1m'\n",
    "   UNDERLINE = '\\033[4m'\n",
    "   END = '\\033[0m'"
   ]
  },
  {
   "cell_type": "markdown",
   "metadata": {},
   "source": [
    "<a name=\"preparation\"></a>\n",
    "## Подготовка данных"
   ]
  },
  {
   "cell_type": "markdown",
   "metadata": {},
   "source": [
    "Загрузим данные о визитах, заказах и расходах в переменные.  \n",
    "Оптимизируем данные для анализа.  \n",
    "Убедимся, что тип данных в каждой колонке — правильный."
   ]
  },
  {
   "cell_type": "code",
   "execution_count": 2,
   "metadata": {
    "scrolled": false
   },
   "outputs": [
    {
     "name": "stdout",
     "output_type": "stream",
     "text": [
      "\u001b[4m\u001b[96m\u001b[1mVisits:\u001b[0m\n"
     ]
    },
    {
     "data": {
      "text/html": [
       "<div>\n",
       "<style scoped>\n",
       "    .dataframe tbody tr th:only-of-type {\n",
       "        vertical-align: middle;\n",
       "    }\n",
       "\n",
       "    .dataframe tbody tr th {\n",
       "        vertical-align: top;\n",
       "    }\n",
       "\n",
       "    .dataframe thead th {\n",
       "        text-align: right;\n",
       "    }\n",
       "</style>\n",
       "<table border=\"1\" class=\"dataframe\">\n",
       "  <thead>\n",
       "    <tr style=\"text-align: right;\">\n",
       "      <th></th>\n",
       "      <th>device</th>\n",
       "      <th>end_ts</th>\n",
       "      <th>source_id</th>\n",
       "      <th>start_ts</th>\n",
       "      <th>uid</th>\n",
       "    </tr>\n",
       "  </thead>\n",
       "  <tbody>\n",
       "    <tr>\n",
       "      <th>0</th>\n",
       "      <td>touch</td>\n",
       "      <td>2017-12-20 17:38:00</td>\n",
       "      <td>4</td>\n",
       "      <td>2017-12-20 17:20:00</td>\n",
       "      <td>16879256277535980062</td>\n",
       "    </tr>\n",
       "    <tr>\n",
       "      <th>1</th>\n",
       "      <td>desktop</td>\n",
       "      <td>2018-02-19 17:21:00</td>\n",
       "      <td>2</td>\n",
       "      <td>2018-02-19 16:53:00</td>\n",
       "      <td>104060357244891740</td>\n",
       "    </tr>\n",
       "    <tr>\n",
       "      <th>2</th>\n",
       "      <td>touch</td>\n",
       "      <td>2017-07-01 01:54:00</td>\n",
       "      <td>5</td>\n",
       "      <td>2017-07-01 01:54:00</td>\n",
       "      <td>7459035603376831527</td>\n",
       "    </tr>\n",
       "    <tr>\n",
       "      <th>3</th>\n",
       "      <td>desktop</td>\n",
       "      <td>2018-05-20 11:23:00</td>\n",
       "      <td>9</td>\n",
       "      <td>2018-05-20 10:59:00</td>\n",
       "      <td>16174680259334210214</td>\n",
       "    </tr>\n",
       "    <tr>\n",
       "      <th>4</th>\n",
       "      <td>desktop</td>\n",
       "      <td>2017-12-27 14:06:00</td>\n",
       "      <td>3</td>\n",
       "      <td>2017-12-27 14:06:00</td>\n",
       "      <td>9969694820036681168</td>\n",
       "    </tr>\n",
       "  </tbody>\n",
       "</table>\n",
       "</div>"
      ],
      "text/plain": [
       "    device               end_ts  source_id             start_ts  \\\n",
       "0    touch  2017-12-20 17:38:00          4  2017-12-20 17:20:00   \n",
       "1  desktop  2018-02-19 17:21:00          2  2018-02-19 16:53:00   \n",
       "2    touch  2017-07-01 01:54:00          5  2017-07-01 01:54:00   \n",
       "3  desktop  2018-05-20 11:23:00          9  2018-05-20 10:59:00   \n",
       "4  desktop  2017-12-27 14:06:00          3  2017-12-27 14:06:00   \n",
       "\n",
       "                    uid  \n",
       "0  16879256277535980062  \n",
       "1    104060357244891740  \n",
       "2   7459035603376831527  \n",
       "3  16174680259334210214  \n",
       "4   9969694820036681168  "
      ]
     },
     "metadata": {},
     "output_type": "display_data"
    },
    {
     "name": "stdout",
     "output_type": "stream",
     "text": [
      "\n",
      "\u001b[4m\u001b[1mInfo:\u001b[0m\n",
      "<class 'pandas.core.frame.DataFrame'>\n",
      "RangeIndex: 359400 entries, 0 to 359399\n",
      "Data columns (total 5 columns):\n",
      " #   Column     Non-Null Count   Dtype \n",
      "---  ------     --------------   ----- \n",
      " 0   device     359400 non-null  object\n",
      " 1   end_ts     359400 non-null  object\n",
      " 2   source_id  359400 non-null  int64 \n",
      " 3   start_ts   359400 non-null  object\n",
      " 4   uid        359400 non-null  uint64\n",
      "dtypes: int64(1), object(3), uint64(1)\n",
      "memory usage: 13.7+ MB\n",
      "None\n",
      "\n",
      "\u001b[4m\u001b[1mNumber of missing values:\u001b[0m\n",
      "device       0\n",
      "end_ts       0\n",
      "source_id    0\n",
      "start_ts     0\n",
      "uid          0\n",
      "dtype: int64\n",
      "\n",
      "\u001b[4m\u001b[1mNumber of duplicates:\u001b[0m 0\n",
      "___________________________________________________________________\n",
      "\n",
      "\u001b[4m\u001b[96m\u001b[1mOrders:\u001b[0m\n"
     ]
    },
    {
     "data": {
      "text/html": [
       "<div>\n",
       "<style scoped>\n",
       "    .dataframe tbody tr th:only-of-type {\n",
       "        vertical-align: middle;\n",
       "    }\n",
       "\n",
       "    .dataframe tbody tr th {\n",
       "        vertical-align: top;\n",
       "    }\n",
       "\n",
       "    .dataframe thead th {\n",
       "        text-align: right;\n",
       "    }\n",
       "</style>\n",
       "<table border=\"1\" class=\"dataframe\">\n",
       "  <thead>\n",
       "    <tr style=\"text-align: right;\">\n",
       "      <th></th>\n",
       "      <th>buy_ts</th>\n",
       "      <th>revenue</th>\n",
       "      <th>uid</th>\n",
       "    </tr>\n",
       "  </thead>\n",
       "  <tbody>\n",
       "    <tr>\n",
       "      <th>0</th>\n",
       "      <td>2017-06-01 00:10:00</td>\n",
       "      <td>17.00</td>\n",
       "      <td>10329302124590727494</td>\n",
       "    </tr>\n",
       "    <tr>\n",
       "      <th>1</th>\n",
       "      <td>2017-06-01 00:25:00</td>\n",
       "      <td>0.55</td>\n",
       "      <td>11627257723692907447</td>\n",
       "    </tr>\n",
       "    <tr>\n",
       "      <th>2</th>\n",
       "      <td>2017-06-01 00:27:00</td>\n",
       "      <td>0.37</td>\n",
       "      <td>17903680561304213844</td>\n",
       "    </tr>\n",
       "    <tr>\n",
       "      <th>3</th>\n",
       "      <td>2017-06-01 00:29:00</td>\n",
       "      <td>0.55</td>\n",
       "      <td>16109239769442553005</td>\n",
       "    </tr>\n",
       "    <tr>\n",
       "      <th>4</th>\n",
       "      <td>2017-06-01 07:58:00</td>\n",
       "      <td>0.37</td>\n",
       "      <td>14200605875248379450</td>\n",
       "    </tr>\n",
       "  </tbody>\n",
       "</table>\n",
       "</div>"
      ],
      "text/plain": [
       "                buy_ts  revenue                   uid\n",
       "0  2017-06-01 00:10:00    17.00  10329302124590727494\n",
       "1  2017-06-01 00:25:00     0.55  11627257723692907447\n",
       "2  2017-06-01 00:27:00     0.37  17903680561304213844\n",
       "3  2017-06-01 00:29:00     0.55  16109239769442553005\n",
       "4  2017-06-01 07:58:00     0.37  14200605875248379450"
      ]
     },
     "metadata": {},
     "output_type": "display_data"
    },
    {
     "name": "stdout",
     "output_type": "stream",
     "text": [
      "\n",
      "\u001b[4m\u001b[1mInfo:\u001b[0m\n",
      "<class 'pandas.core.frame.DataFrame'>\n",
      "RangeIndex: 50415 entries, 0 to 50414\n",
      "Data columns (total 3 columns):\n",
      " #   Column   Non-Null Count  Dtype  \n",
      "---  ------   --------------  -----  \n",
      " 0   buy_ts   50415 non-null  object \n",
      " 1   revenue  50415 non-null  float64\n",
      " 2   uid      50415 non-null  uint64 \n",
      "dtypes: float64(1), object(1), uint64(1)\n",
      "memory usage: 1.2+ MB\n",
      "None\n",
      "\n",
      "\u001b[4m\u001b[1mNumber of missing values:\u001b[0m\n",
      "buy_ts     0\n",
      "revenue    0\n",
      "uid        0\n",
      "dtype: int64\n",
      "\n",
      "\u001b[4m\u001b[1mNumber of duplicates:\u001b[0m 0\n",
      "___________________________________________________________________\n",
      "\n",
      "\u001b[4m\u001b[96m\u001b[1mCosts:\u001b[0m\n"
     ]
    },
    {
     "data": {
      "text/html": [
       "<div>\n",
       "<style scoped>\n",
       "    .dataframe tbody tr th:only-of-type {\n",
       "        vertical-align: middle;\n",
       "    }\n",
       "\n",
       "    .dataframe tbody tr th {\n",
       "        vertical-align: top;\n",
       "    }\n",
       "\n",
       "    .dataframe thead th {\n",
       "        text-align: right;\n",
       "    }\n",
       "</style>\n",
       "<table border=\"1\" class=\"dataframe\">\n",
       "  <thead>\n",
       "    <tr style=\"text-align: right;\">\n",
       "      <th></th>\n",
       "      <th>source_id</th>\n",
       "      <th>dt</th>\n",
       "      <th>costs</th>\n",
       "    </tr>\n",
       "  </thead>\n",
       "  <tbody>\n",
       "    <tr>\n",
       "      <th>0</th>\n",
       "      <td>1</td>\n",
       "      <td>2017-06-01</td>\n",
       "      <td>75.20</td>\n",
       "    </tr>\n",
       "    <tr>\n",
       "      <th>1</th>\n",
       "      <td>1</td>\n",
       "      <td>2017-06-02</td>\n",
       "      <td>62.25</td>\n",
       "    </tr>\n",
       "    <tr>\n",
       "      <th>2</th>\n",
       "      <td>1</td>\n",
       "      <td>2017-06-03</td>\n",
       "      <td>36.53</td>\n",
       "    </tr>\n",
       "    <tr>\n",
       "      <th>3</th>\n",
       "      <td>1</td>\n",
       "      <td>2017-06-04</td>\n",
       "      <td>55.00</td>\n",
       "    </tr>\n",
       "    <tr>\n",
       "      <th>4</th>\n",
       "      <td>1</td>\n",
       "      <td>2017-06-05</td>\n",
       "      <td>57.08</td>\n",
       "    </tr>\n",
       "  </tbody>\n",
       "</table>\n",
       "</div>"
      ],
      "text/plain": [
       "   source_id          dt  costs\n",
       "0          1  2017-06-01  75.20\n",
       "1          1  2017-06-02  62.25\n",
       "2          1  2017-06-03  36.53\n",
       "3          1  2017-06-04  55.00\n",
       "4          1  2017-06-05  57.08"
      ]
     },
     "metadata": {},
     "output_type": "display_data"
    },
    {
     "name": "stdout",
     "output_type": "stream",
     "text": [
      "\n",
      "\u001b[4m\u001b[1mInfo:\u001b[0m\n",
      "<class 'pandas.core.frame.DataFrame'>\n",
      "RangeIndex: 2542 entries, 0 to 2541\n",
      "Data columns (total 3 columns):\n",
      " #   Column     Non-Null Count  Dtype  \n",
      "---  ------     --------------  -----  \n",
      " 0   source_id  2542 non-null   int64  \n",
      " 1   dt         2542 non-null   object \n",
      " 2   costs      2542 non-null   float64\n",
      "dtypes: float64(1), int64(1), object(1)\n",
      "memory usage: 59.7+ KB\n",
      "None\n",
      "\n",
      "\u001b[4m\u001b[1mNumber of missing values:\u001b[0m\n",
      "source_id    0\n",
      "dt           0\n",
      "costs        0\n",
      "dtype: int64\n",
      "\n",
      "\u001b[4m\u001b[1mNumber of duplicates:\u001b[0m 0\n",
      "___________________________________________________________________\n",
      "\n"
     ]
    }
   ],
   "source": [
    "visits = pd.read_csv('../../datasets/visits_log.csv')\n",
    "visits.name = 'Visits'\n",
    "orders = pd.read_csv('../../datasets/orders_log.csv')\n",
    "orders.name = 'Orders'\n",
    "costs = pd.read_csv('../../datasets/costs.csv')\n",
    "costs.name = 'Costs'\n",
    "for df in [visits, orders, costs]:\n",
    "    df.columns = df.columns.str.replace(' ', '_').str.lower()\n",
    "    print(color.UNDERLINE + color.CYAN + color.BOLD +'{}:'.format(df.name) + color.END)\n",
    "    display(df.head())\n",
    "    print('')\n",
    "    print(color.UNDERLINE + color.BOLD + 'Info:' + color.END)\n",
    "    print(df.info())\n",
    "    print('')\n",
    "    print(color.UNDERLINE + color.BOLD + 'Number of missing values:' + color.END)\n",
    "    print(df.isna().sum())\n",
    "    print('')\n",
    "    print(color.UNDERLINE + color.BOLD + 'Number of duplicates:' + color.END, df.duplicated().sum())\n",
    "    print('___________________________________________________________________')\n",
    "    print('')\n",
    "\n",
    "visits['end_ts'] = pd.to_datetime(visits['end_ts'])\n",
    "visits['start_ts'] = pd.to_datetime(visits['start_ts'])\n",
    "orders['buy_ts'] = pd.to_datetime(orders['buy_ts'])\n",
    "costs['dt'] = pd.to_datetime(costs['dt'])"
   ]
  },
  {
   "cell_type": "markdown",
   "metadata": {},
   "source": [
    "##### Комментарий"
   ]
  },
  {
   "cell_type": "markdown",
   "metadata": {},
   "source": [
    "Названия столбцов приведены к единому виду, столбцы с датами приведены к типу datetime. Пропуски и дубликаты не найдены."
   ]
  },
  {
   "cell_type": "markdown",
   "metadata": {},
   "source": [
    "## Отчёты и метрики"
   ]
  },
  {
   "cell_type": "markdown",
   "metadata": {},
   "source": [
    "<a name='product'></a>\n",
    "### Продукт"
   ]
  },
  {
   "cell_type": "markdown",
   "metadata": {},
   "source": [
    "<a name='dau'></a>\n",
    "_Посмотрим на активность пользователей в трёх измерениях:\n",
    "DAU (от англ. daily active users) — количество уникальных пользователей в день;\n",
    "WAU (от англ. weekly active users) — количество уникальных пользователей в неделю;\n",
    "MAU (от англ. monthly active users) — количество уникальных пользователей в месяц.\n",
    "Также выведем соотношение пользователей мобильных устройств и компьютеров:_"
   ]
  },
  {
   "cell_type": "code",
   "execution_count": 3,
   "metadata": {
    "scrolled": false
   },
   "outputs": [
    {
     "data": {
      "image/png": "[encoded data removed]",
      "text/plain": [
       "<Figure size 1152x432 with 1 Axes>"
      ]
     },
     "metadata": {},
     "output_type": "display_data"
    },
    {
     "name": "stdout",
     "output_type": "stream",
     "text": [
      "Desktop DAU-mean = 659 (72.3%)\n",
      "Mobile DAU-mean = 252 (27.7%)\n"
     ]
    },
    {
     "data": {
      "image/png": "[encoded data removed]",
      "text/plain": [
       "<Figure size 1152x432 with 1 Axes>"
      ]
     },
     "metadata": {},
     "output_type": "display_data"
    },
    {
     "name": "stdout",
     "output_type": "stream",
     "text": [
      "Desktop WAU-mean = 4129 (71.6%)\n",
      "Mobile WAU-mean = 1634 (28.4%)\n"
     ]
    },
    {
     "data": {
      "image/png": "[encoded data removed]",
      "text/plain": [
       "<Figure size 1152x432 with 1 Axes>"
      ]
     },
     "metadata": {},
     "output_type": "display_data"
    },
    {
     "name": "stdout",
     "output_type": "stream",
     "text": [
      "Desktop MAU-mean = 16724 (71.0%)\n",
      "Mobile MAU-mean = 6825 (29.0%)\n"
     ]
    }
   ],
   "source": [
    "visits['session_month'] = visits['start_ts'].dt.strftime('%Y-%m')\n",
    "visits['session_week']  = visits['start_ts'].dt.strftime('%Y-%W')\n",
    "visits['session_date'] = visits['start_ts'].dt.strftime('%Y-%m-%d')\n",
    "\n",
    "for i in [['session_date', 'DAU'], ['session_week', 'WAU'], ['session_month', 'MAU']]:\n",
    "    nunique_visits_by_term = visits.pivot_table(index=[i[0], 'device'], \n",
    "                                                values='uid', \n",
    "                                                aggfunc='nunique')\n",
    "    nunique_visits_by_term = nunique_visits_by_term.loc[:,['uid']].reset_index()\n",
    "\n",
    "    plt.figure(figsize=(16, 6))\n",
    "    ax = sns.barplot(x=i[0], y='uid', hue='device', data=nunique_visits_by_term, dodge=False)\n",
    "    if i[0] == 'session_date':\n",
    "        for ind, label in enumerate(ax.get_xticklabels()):\n",
    "            if ind % 10 == 0:  # every 10th label is kept\n",
    "                label.set_visible(True)\n",
    "            else:\n",
    "                label.set_visible(False)\n",
    "    plt.title(i[1])\n",
    "    plt.ylabel(i[1])\n",
    "    plt.xlabel(i[0])\n",
    "    plt.xticks(rotation=90)\n",
    "    plt.show()\n",
    "    \n",
    "    au_desktop = int(nunique_visits_by_term.query('device == \"desktop\"')['uid'].mean())\n",
    "    au_touch = int(nunique_visits_by_term.query('device == \"touch\"')['uid'].mean())\n",
    "    print('Desktop {}-mean = {} ({:.1%})'.format(i[1], au_desktop, (au_desktop/(au_desktop + au_touch))))\n",
    "    print('Mobile {}-mean = {} ({:.1%})'.format(i[1], au_touch, (au_touch/(au_desktop + au_touch))))"
   ]
  },
  {
   "cell_type": "markdown",
   "metadata": {},
   "source": [
    "##### Комментарий:"
   ]
  },
  {
   "cell_type": "markdown",
   "metadata": {},
   "source": [
    "Перед нами графики количества уникальных пользователей в день/ в неделю/ в месяц.  \n",
    "Средние показатели за весь период исследования:\n",
    "- DAU _(количество уникальных пользователей в день)_ : 907 (из них пользователи ПК 72,3% / пользователи мобильных устройств 27,7%)\n",
    "- DAU _(количество уникальных пользователей в день)_ : 5716 (из них пользователи ПК 71,6% / пользователи мобильных устройств 28,4%)\n",
    "- MAU _(количество уникальных пользователей в месяц)_ : 23228 (из них пользователи ПК 71% / пользователи мобильных устройств 29%)  "
   ]
  },
  {
   "cell_type": "markdown",
   "metadata": {},
   "source": [
    "<a name='session_amount_per_day'></a>\n",
    "_Посмотрим cколько всего сессий в день для мобильных устройств и ПК и сколько сессий у одного пользовотеля в день:_"
   ]
  },
  {
   "cell_type": "code",
   "execution_count": 4,
   "metadata": {},
   "outputs": [
    {
     "name": "stdout",
     "output_type": "stream",
     "text": [
      "Average number of desktop sessions per day = 721\n",
      "Average number of mobile sessions per day = 266\n",
      "____________\n",
      "\n",
      "Average number of desktop sessions per day per user = 1\n",
      "Average number of mobile sessions per day per user = 1\n"
     ]
    }
   ],
   "source": [
    "session_amount_per_day = visits.groupby(['session_date', 'device']).agg({'uid': ['count', 'nunique']})\n",
    "session_amount_per_day.columns = ['n_sessions', 'n_users']\n",
    "session_amount_per_day['sessions_per_user'] = session_amount_per_day['n_sessions'] / session_amount_per_day['n_users']\n",
    "\n",
    "print('Average number of desktop sessions per day =',\n",
    "      int(session_amount_per_day.query('device == \"desktop\"')['n_sessions'].mean()))\n",
    "print('Average number of mobile sessions per day =',\n",
    "      int(session_amount_per_day.query('device == \"touch\"')['n_sessions'].mean()))\n",
    "print('____________')\n",
    "print('')\n",
    "print('Average number of desktop sessions per day per user =',\n",
    "      int(session_amount_per_day.query('device == \"desktop\"')['sessions_per_user'].mean()))\n",
    "print('Average number of mobile sessions per day per user =',\n",
    "      int(session_amount_per_day.query('device == \"touch\"')['sessions_per_user'].mean()))"
   ]
  },
  {
   "cell_type": "markdown",
   "metadata": {},
   "source": [
    "<a name='session_duration'></a>\n",
    "А теперь посмотрим сколько обычно длится одна сессия."
   ]
  },
  {
   "cell_type": "code",
   "execution_count": 5,
   "metadata": {},
   "outputs": [
    {
     "data": {
      "image/png": "[encoded data removed]",
      "text/plain": [
       "<Figure size 1152x432 with 1 Axes>"
      ]
     },
     "metadata": {},
     "output_type": "display_data"
    },
    {
     "name": "stdout",
     "output_type": "stream",
     "text": [
      "Desktop ASL(average session length) = 60 seconds\n",
      "Mobile ASL(average session length) = 60 seconds\n"
     ]
    }
   ],
   "source": [
    "visits['session_duration'] = (visits['end_ts'] - visits['start_ts']).dt.seconds\n",
    "plt.figure(figsize=(16, 6))\n",
    "ax=sns.countplot(x='session_duration', hue='device', data=visits[visits['session_duration'] <= 2000])\n",
    "plt.ylabel('users')\n",
    "plt.xlabel('session length')\n",
    "plt.xticks(rotation=45)\n",
    "plt.title('Session Duration')\n",
    "\n",
    "plt.show()\n",
    "\n",
    "\n",
    "print('Desktop ASL(average session length) = {} seconds'\n",
    "      .format(visits.query('device == \"desktop\"')['session_duration'].mode()[0]))\n",
    "print('Mobile ASL(average session length) = {} seconds'\n",
    "      .format(visits.query('device == \"touch\"')['session_duration'].mode()[0]))"
   ]
  },
  {
   "cell_type": "markdown",
   "metadata": {},
   "source": [
    "##### Комментарий:"
   ]
  },
  {
   "cell_type": "markdown",
   "metadata": {},
   "source": [
    "Среднее количество сессий в день 987(из них 73% с десктопных и 27% с мобильных устройств), при этом обычно в день, один пользователь обращается к сервису только один раз.  \n",
    "Чаще всего сессия длится 1 минуту."
   ]
  },
  {
   "cell_type": "markdown",
   "metadata": {},
   "source": [
    "<a name='retention'></a>\n",
    "_Посмотрим как часто люди возвращаются, для этого сделаем когортный анализ по показателю Retention Rate:_  \n",
    "___\n",
    "_Retention Rate показывает, сколько пользователей из когорты относительно их изначального числа вернулось в последующие периоды._"
   ]
  },
  {
   "cell_type": "code",
   "execution_count": null,
   "metadata": {},
   "outputs": [],
   "source": [
    "first_activity_date = visits.groupby('uid')['session_date'].min()\n",
    "first_activity_date.name = 'first_activity_date'\n",
    "\n",
    "user_activity = pd.merge(visits, first_activity_date, on='uid')\n",
    "user_activity['activity_month'] = user_activity['session_date'].astype('datetime64[M]')\n",
    "user_activity['first_activity_month'] = user_activity['first_activity_date'].astype('datetime64[M]')\n",
    "\n",
    "user_activity['age'] = (((user_activity['activity_month'] - user_activity['first_activity_month'])\n",
    "                        / np.timedelta64(1,'M'))\n",
    "                        .round()\n",
    "                        .astype('int'))\n",
    "\n",
    "cohorts = (user_activity\n",
    "           .groupby(['first_activity_month', 'age'])\n",
    "           .agg({'uid': 'nunique'})\n",
    "           .reset_index())\n",
    "\n",
    "cohorts['first_activity_month'] = cohorts['first_activity_month'].dt.strftime('%Y-%m')\n",
    "cohorts = cohorts.rename(columns={'first_activity_month': 'cohort'})\n",
    "\n",
    "initial_users_count = cohorts[cohorts['age'] == 0][['cohort', 'uid']]\n",
    "initial_users_count = initial_users_count.rename(columns={'uid': 'cohorts_users'})\n",
    "\n",
    "cohorts = cohorts.merge(initial_users_count, on='cohort')\n",
    "cohorts['retention'] = cohorts['uid'] / cohorts['cohorts_users']\n",
    "\n",
    "retention_pivot = cohorts[cohorts['age'] > 0].pivot_table(index='cohort',\n",
    "                                     columns='age',\n",
    "                                     values='retention',\n",
    "                                     aggfunc='sum')\n",
    "\n",
    "plt.figure(figsize=(15,6))\n",
    "plt.title('Cohorts: User Retention')\n",
    "sns.heatmap(retention_pivot,\n",
    "            annot=True, fmt='.2%', linewidths=1, linecolor='white')\n",
    "plt.show()"
   ]
  },
  {
   "cell_type": "markdown",
   "metadata": {},
   "source": [
    "_Построим barplot со средними показателями Retention Rate в течении жизненного цикла:_\n",
    "___\n",
    "Для удобства расчётов будем считать \"жизненный цикл\" равным полных 6 мес. + нулевой _(т.к. месяц, в который пользователь приходит, не полноценный - пользователь может прийти и 1-го и 31-го числа, будем считать его за нулевой)._"
   ]
  },
  {
   "cell_type": "code",
   "execution_count": null,
   "metadata": {
    "scrolled": false
   },
   "outputs": [],
   "source": [
    "lifetime_retention_pivot = retention_pivot.loc[:,1:6]\n",
    "plt.figure(figsize=(12, 6))\n",
    "ax=sns.barplot(x=lifetime_retention_pivot.columns, y=lifetime_retention_pivot.mean())\n",
    "ax.set_title('Average retention rate during lifetime')\n",
    "ax.set_ylabel('retention rate')\n",
    "vals = ax.get_yticks()\n",
    "ax.set_yticklabels(['{:.0%}'.format(x) for x in vals])\n",
    "for i in ax.patches:\n",
    "    ax.text(i.get_x()+0.1, i.get_height()-0.005, \n",
    "            str(round(i.get_height() *100, 2))+'%', fontsize=18, color='white')\n",
    "plt.show()"
   ]
  },
  {
   "cell_type": "markdown",
   "metadata": {},
   "source": [
    "##### Комментарий:"
   ]
  },
  {
   "cell_type": "markdown",
   "metadata": {},
   "source": [
    "Мы разделили всех приходящих пользователей на когорты, по месяцу прихода на сайт, чтобы посмотреть, как часто люди возвращаются.\n",
    "На тепловой карте мы видим, что в первой когорте пользователи чаще возвращались на сайт. На графике видно, что в течении жизненного цикла с каждым месяцем процент возвращающихся пользователей падает (с 6,5% в первый месяц до 3,7% в шестой).   \n",
    "_Т.к. нулевой месяц не показателен(во всех кагортах равен 100%) на данных графиках мы его не стали отображать._"
   ]
  },
  {
   "cell_type": "markdown",
   "metadata": {},
   "source": [
    "#### Вывод:"
   ]
  },
  {
   "cell_type": "markdown",
   "metadata": {},
   "source": [
    "Больше 70 процентов пользователей, заходят на сайт с компьютера, возможно это связано с тем, что пользоваться сервисов с мобильного устройства не очень удобно, необходимо протестировать UX мобильной версии сайта.  \n",
    "  \n",
    "Чаще всего сессия длится 1 минуту, что может говорить о том, что пользователь бежит, столкнувшись со сложным интерфейсом сервиса, может быть стоит показывать какой-то туториал для новых пользователей на главной странице.\n",
    "\n",
    "С каждой новой когортой Retention Rate падает, нужно проследить какие изменения в сервисе приводят к такому результату."
   ]
  },
  {
   "cell_type": "markdown",
   "metadata": {},
   "source": [
    "<a name='sales'></a>\n",
    "### Продажи"
   ]
  },
  {
   "cell_type": "markdown",
   "metadata": {},
   "source": [
    "<a name='purchase_period'></a>\n",
    "_Посмотрим когда люди начинают покупать, для этого посмотрим на разницу между первым визитом и первой покупкой, сравним средние результаты для мобильных устройств и ПК для каждой из когорт:_"
   ]
  },
  {
   "cell_type": "code",
   "execution_count": null,
   "metadata": {},
   "outputs": [],
   "source": [
    "first_buy = orders.groupby('uid')['buy_ts'].min().reset_index()\n",
    "first_buy = first_buy.rename(columns={'buy_ts':'first_buy_ts'})\n",
    "first_session = visits.groupby(['uid', 'device'])['start_ts'].min().reset_index()\n",
    "first_session = first_session.rename(columns={'start_ts':'first_start_ts'})\n",
    "\n",
    "purchase_period = first_buy.merge(first_session, on='uid')\n",
    "purchase_period['purchase_period'] = (purchase_period['first_buy_ts'] - purchase_period['first_start_ts']).dt.seconds\n",
    "purchase_period['cohort'] =  purchase_period['first_start_ts'].astype('datetime64[M]').dt.strftime('%Y-%m')\n",
    "\n",
    "purchase_pivot = (purchase_period.pivot_table(index=['cohort', 'device'], \n",
    "                                              values='purchase_period', \n",
    "                                              aggfunc='mean')\n",
    "                  .reset_index())\n",
    "print('Desktop users average period from first visit to purchase = {} hours'\n",
    "      .format(round(purchase_period.query('device == \"desktop\"')['purchase_period'].mean()/ 3600, 1)))\n",
    "print('Mobile users average period from first visit to purchase = {} hours'\n",
    "      .format(round(purchase_period.query('device == \"touch\"')['purchase_period'].mean()/ 3600, 1)))\n",
    "purchase_pivot['purchase_period'] = purchase_pivot['purchase_period'] / 3600\n",
    "\n",
    "plt.figure(figsize=(16, 6))\n",
    "\n",
    "ax=sns.barplot(x='cohort', y='purchase_period', hue='device', data=purchase_pivot)\n",
    "plt.ylabel('hours')\n",
    "plt.xlabel('cohort')\n",
    "plt.title('Term to first purchase')\n",
    "for i in ax.patches:\n",
    "    ax.text(i.get_x()+.06, i.get_height(), \n",
    "            str(round(i.get_height(), 1)), fontsize=12, color='grey')\n",
    "plt.show()\n"
   ]
  },
  {
   "cell_type": "markdown",
   "metadata": {},
   "source": [
    "##### Комментарий:"
   ]
  },
  {
   "cell_type": "markdown",
   "metadata": {},
   "source": [
    "В среднем для тех, кто  начал пользоваться сервисом с мобильного устройства, от первого визита до покупки проходит на 2 часа больше, чем для тех кто им пользовался с компьютера (4 часа против 6 часов 20 минут), к тому же с каждой новой когортой для пользователей ПК этот показатель в основном падает, чего нельзя сказать о пользователях мобильных устройств.  \n",
    "Стоит поработать над мобильной версией."
   ]
  },
  {
   "cell_type": "markdown",
   "metadata": {},
   "source": [
    "<a name='orders_per_user'></a>\n",
    "_Посмотрим сколько покупок в среднем делает пользователь:_"
   ]
  },
  {
   "cell_type": "code",
   "execution_count": null,
   "metadata": {},
   "outputs": [],
   "source": [
    "orders_per_user = orders.groupby('uid').agg({'revenue': ['count', 'sum']})\n",
    "orders_per_user.columns = ['n_purchases', 't_purchases']\n",
    "print('Usual number of purchases is', orders_per_user['n_purchases'].mode()[0])\n",
    "plt.figure(figsize=(16, 6))\n",
    "ax=sns.countplot(x='n_purchases', data=orders_per_user)\n",
    "plt.ylabel('users')\n",
    "plt.xlabel('amount of purchases')\n",
    "plt.xticks(rotation=45)\n",
    "plt.title('Number of purchases')\n",
    "for i in ax.patches:\n",
    "    ax.text(i.get_x(), i.get_height(), \n",
    "            str(int((i.get_height()))), fontsize=8, color='grey',rotation=15)\n",
    "plt.show()\n"
   ]
  },
  {
   "cell_type": "markdown",
   "metadata": {},
   "source": [
    "##### Комментарий:"
   ]
  },
  {
   "cell_type": "markdown",
   "metadata": {},
   "source": [
    "Обычно пользователи делают не больше одной покупки, но есть и те, кто делает больше 200(хоть их и очень мало)."
   ]
  },
  {
   "cell_type": "markdown",
   "metadata": {},
   "source": [
    "<a name='aov'></a>\n",
    "_Посчитаем средний чек каждого пользователя для каждой когорты по месяцам. А также средний чек за весь период:_"
   ]
  },
  {
   "cell_type": "code",
   "execution_count": null,
   "metadata": {},
   "outputs": [],
   "source": [
    "first_buy_ts = orders.groupby('uid')['buy_ts'].min()\n",
    "first_buy_ts.name = 'first_buy_ts'\n",
    "orders = orders.join(first_buy_ts,on='uid')\n",
    "orders['buy_month'] = orders['buy_ts'].astype('datetime64[M]')\n",
    "orders['first_buy_month'] = orders['first_buy_ts'].astype('datetime64[M]')\n",
    "orders_by_cohorts = (orders\n",
    "                     .groupby(['first_buy_month', 'buy_month'])\n",
    "                     .agg({'revenue': 'sum', 'uid': 'nunique'})\n",
    "                     .reset_index())\n",
    "orders_by_cohorts['revenue_per_user'] = orders_by_cohorts['revenue'] / orders_by_cohorts['uid']\n",
    "orders_by_cohorts.pivot_table(index='first_buy_month',\n",
    "                             columns='buy_month',\n",
    "                             values='revenue_per_user',\n",
    "                             aggfunc='mean')\n",
    "orders_by_cohorts['cohort_lifetime'] = (((orders_by_cohorts['buy_month'] - orders_by_cohorts['first_buy_month'])\n",
    "                                        / np.timedelta64(1,'M'))\n",
    "                                        .round()\n",
    "                                        .astype('int'))\n",
    "orders_by_cohorts['first_buy_month'] = orders_by_cohorts['first_buy_month'].dt.strftime('%Y-%m')\n",
    "orders_by_cohorts_pivot = orders_by_cohorts.pivot_table(index='first_buy_month',\n",
    "                             columns='cohort_lifetime',\n",
    "                             values='revenue_per_user',\n",
    "                             aggfunc='mean')\n",
    "plt.figure(figsize=(15,6))\n",
    "plt.title('Cohorts: AOV (average order value)')\n",
    "sns.heatmap(orders_by_cohorts_pivot, annot=True, fmt='.2f', linewidths=1, linecolor='white')\n",
    "plt.show()\n",
    "print('AOV (average order value) = {:.1f}'.format(orders['revenue'].mean()))"
   ]
  },
  {
   "cell_type": "markdown",
   "metadata": {},
   "source": [
    "##### Комментарий:"
   ]
  },
  {
   "cell_type": "markdown",
   "metadata": {},
   "source": [
    "Глядя на тепловую карту мы видим, что в большинстве когорт средний чек со временем растёт. Также стоит отметить аномальные значения в третий месяц сентябрьской когорты(средний чек в этот месяц составил 138,7 у.е.), помимо этой когорты высокий средний чек был в первой когорте и в декабрьской.  \n",
    "Средний же чек среди всех покупок равен 5 у.е."
   ]
  },
  {
   "cell_type": "markdown",
   "metadata": {},
   "source": [
    "<a name='ltv'></a>\n",
    "_Сделаем когортный анализ по показателю LTV, для того чтобы понять, сколько денег приносят клиенты:_  \n",
    "___\n",
    "LTV (от англ. lifetime value) — «пожизненная» ценность клиента. Это — итоговая сумма денег, которую один клиент приносит в среднем со всех своих покупок"
   ]
  },
  {
   "cell_type": "code",
   "execution_count": null,
   "metadata": {},
   "outputs": [],
   "source": [
    "costs['month'] = costs['dt'].astype('datetime64[M]')\n",
    "\n",
    "first_orders = orders.groupby('uid').agg({'buy_month': 'min'}).reset_index()\n",
    "first_orders.columns = ['uid', 'first_buy_month']\n",
    "\n",
    "cohort_sizes = first_orders.groupby('first_buy_month').agg({'uid': 'nunique'}).reset_index()\n",
    "cohort_sizes.columns = ['first_buy_month', 'n_buyers']\n",
    "\n",
    "cohorts = orders.groupby(['first_buy_month', 'buy_month']).agg({'revenue': 'sum'}).reset_index()\n",
    "report = pd.merge(cohort_sizes, cohorts, on='first_buy_month')\n",
    "report['age'] = (((report['buy_month'] - report['first_buy_month']) / np.timedelta64(1, 'M'))\n",
    "                 .round()\n",
    "                 .astype('int'))\n",
    "report['ltv'] = report['revenue'] / report['n_buyers']\n",
    "report['first_buy_month'] = report['first_buy_month'].dt.strftime('%Y-%m')\n",
    "report_pivot = report.pivot_table(index='first_buy_month',\n",
    "                                 columns='age',\n",
    "                                 values='ltv',\n",
    "                                 aggfunc='mean')\n",
    "\n",
    "plt.figure(figsize=(15,6))\n",
    "plt.title('Cohorts: LTV per month')\n",
    "sns.heatmap(report_pivot, annot=True, fmt='.2f', linewidths=1, linecolor='white')\n",
    "plt.show()"
   ]
  },
  {
   "cell_type": "markdown",
   "metadata": {},
   "source": [
    "_Посчитаем средний LTV за \"жизненный цикл\".  \n",
    "Для удобства расчётов будем считать \"жизненный цикл\" равным 6 полных месяцев + нулевой месяц(месяц первой покупки пользователя):_"
   ]
  },
  {
   "cell_type": "code",
   "execution_count": null,
   "metadata": {},
   "outputs": [],
   "source": [
    "print('Average LTV(if the lifetime is 6 month) = {:.2f}'.format(report_pivot.cumsum(1)[6].mean()))"
   ]
  },
  {
   "cell_type": "markdown",
   "metadata": {},
   "source": [
    "<a name='ltv_source'></a>\n",
    "_Теперь посчитаем среднюю пожизненную ценность клиента(LTV) в зависимости от рекламного источника, по которому он пришёл:_"
   ]
  },
  {
   "cell_type": "code",
   "execution_count": null,
   "metadata": {},
   "outputs": [],
   "source": [
    "source = visits.loc[:, ['uid', 'source_id']].groupby('uid').agg({'source_id': 'first'})\n",
    "orders = pd.merge(orders, source, on='uid', how='left')\n",
    "orders['age'] = (((orders['buy_month'] - orders['first_buy_month']) / np.timedelta64(1, 'M'))\n",
    "                 .round()\n",
    "                 .astype('int'))\n",
    "\n",
    "orders_six_month = orders[(orders['age'] <= 6) & (orders['first_buy_ts'] <= '2017-11-30')]\n",
    "\n",
    "ltv_by_source = orders_six_month.groupby('source_id').agg({'revenue': 'sum', 'uid': 'nunique'})\n",
    "ltv_by_source.columns = ['revenue', 'n_buyers']\n",
    "ltv_by_source['ltv'] = ltv_by_source['revenue'] / ltv_by_source['n_buyers']\n",
    "ltv_by_source.drop([7], inplace=True)\n",
    "\n",
    "plt.figure(figsize=(12, 6))\n",
    "ax = sns.barplot(x=ltv_by_source.index, y=ltv_by_source.ltv)\n",
    "ax.set_ylabel('LTV')\n",
    "ax.set_title('LTV by source id')\n",
    "for i in ax.patches:\n",
    "    ax.text(i.get_x()+i.get_width()/10, i.get_height()-1.3, \n",
    "            str(round(i.get_height(), 2)), fontsize=18, color='white')\n",
    "plt.show()"
   ]
  },
  {
   "cell_type": "markdown",
   "metadata": {},
   "source": [
    "#### Вывод:"
   ]
  },
  {
   "cell_type": "markdown",
   "metadata": {},
   "source": [
    "Перед нами тепловая карта когорт, где средняя для когорты LTV(пожизненная ценность клиента) разбита по месяцам, из этой карты видно, что наиболее продуктивный месяц сточки зрения LTV, первый.  \n",
    "\n",
    "__Средняя LTV(пожизненная ценность клиента) = 8,39__ у.е.  \n",
    "\n",
    "Так же перед нами график величины LTV в зависимости от рекламного источника, по которому пришли пользователи. На нём видно, что лучшие показатели LTV у пользователей с источников под номером 1 и 2 (11,9 и 18,4 у.е. соответственно), а худшие у источников под номерами 3, 9, 10 (5,5, 5,5 и 3,3 у.е. соответственно). _Также тут необходимо отметить, что в данную метрику не попали рекламные источники под номерами 6, 7 и 8, ввиду отсутствия достаточного количества данных для оценки (данные по источнику под номером 7 были удалены из таблицы, т.к. из проживших полный цикл, пришедших с этого источника всего один пользователь, этого недостаточно для анализа данного показателя)_"
   ]
  },
  {
   "cell_type": "markdown",
   "metadata": {},
   "source": [
    "<a name='marketing'></a>\n",
    "### Маркетинг"
   ]
  },
  {
   "cell_type": "markdown",
   "metadata": {},
   "source": [
    "<a name='costs_by_source'></a>\n",
    "_Построим тепловую карту расходов по месяцам в зависимости от рекламного ресурса:_"
   ]
  },
  {
   "cell_type": "code",
   "execution_count": null,
   "metadata": {},
   "outputs": [],
   "source": [
    "costs['month'] = pd.to_datetime(costs['month']).dt.strftime('%Y-%m')\n",
    "\n",
    "costs_pivot = costs.pivot_table(index='source_id',\n",
    "                 columns='month',\n",
    "                 values='costs',\n",
    "                 aggfunc='sum')\n",
    "plt.figure(figsize=(15,6))\n",
    "plt.title('Marketing costs')\n",
    "sns.heatmap(costs_pivot, annot=True, fmt='.1f', linewidths=1, linecolor='white')\n",
    "plt.show()"
   ]
  },
  {
   "cell_type": "markdown",
   "metadata": {},
   "source": [
    "_Построим график распределения расходов в зависимости от рекламного ресурса:_"
   ]
  },
  {
   "cell_type": "code",
   "execution_count": null,
   "metadata": {},
   "outputs": [],
   "source": [
    "costs_by_source = costs.groupby('source_id').agg({'costs': 'sum'})\n",
    "plt.figure(figsize=(12, 6))\n",
    "ax = sns.barplot(x=costs_by_source.index, y=costs_by_source.costs)\n",
    "ax.set_title('Total marketing costs by sorce')\n",
    "ax.set_ylabel('costs');\n",
    "for i in ax.patches:\n",
    "    ax.text(i.get_x()+.1, i.get_height()+500, \n",
    "            str(int((i.get_height()))), fontsize=15, color='grey')\n",
    "plt.show()"
   ]
  },
  {
   "cell_type": "markdown",
   "metadata": {},
   "source": [
    "_А теперь построим график распределения затрат по месяцам, а также выведем общую сумму расходов на маркетинг:_"
   ]
  },
  {
   "cell_type": "code",
   "execution_count": null,
   "metadata": {
    "scrolled": false
   },
   "outputs": [],
   "source": [
    "costs_by_month = costs.groupby('month').agg({'costs': 'sum'})\n",
    "plt.figure(figsize=(12, 6))\n",
    "ax = sns.barplot(x=costs_by_month.index, y=costs_by_month.costs)\n",
    "ax.set_title('Total marketing costs by month')\n",
    "ax.set_ylabel('costs');\n",
    "for i in ax.patches:\n",
    "    ax.text(i.get_x()+.02, i.get_height()-5000, \n",
    "            str(int(i.get_height())), fontsize=15, color='white', rotation=40)\n",
    "plt.show()\n",
    "print('_______________')\n",
    "print('')\n",
    "print('Total marketing costs: {}'.format(costs['costs'].sum()))"
   ]
  },
  {
   "cell_type": "markdown",
   "metadata": {},
   "source": [
    "##### Комментарий:"
   ]
  },
  {
   "cell_type": "markdown",
   "metadata": {},
   "source": [
    "Из приведенных выше графиков расходов на рекламные компании мы видим, что больше всего трат уходит на рекламный ресурс под номером 3, а меньшего всего на ресурсы под номерами 1, 9 и 10. Также мы видим, что с октября по март расходы на рекламные компании были увеличены. Что, судя по предыдущим графикам по средним чекам и ATL дало свои плоды, и отразилось не столько на привлечении новых клиентов, сколько на покупках уже существующих."
   ]
  },
  {
   "cell_type": "markdown",
   "metadata": {},
   "source": [
    "<a name='cac_by_source'></a>\n",
    "_Посчитаем CAC, чтобы узнать, сколько стоило привлечение одного покупателя из каждого источника:_\n",
    "___\n",
    "CAC (от англ. customer acquisition cost) — стоимость привлечения клиента.  \n",
    "Сумма денег, во сколько обходится новый клиент компании."
   ]
  },
  {
   "cell_type": "code",
   "execution_count": null,
   "metadata": {
    "scrolled": false
   },
   "outputs": [],
   "source": [
    "orders['first_buy_month'] = orders['first_buy_month'].dt.strftime('%Y-%m')\n",
    "buyers_source = orders.loc[:,['uid','source_id', 'first_buy_month']]\n",
    "n_users_by_source = (buyers_source\n",
    "                     .reset_index()\n",
    "                     .groupby('source_id')\n",
    "                     .agg({'uid': 'nunique'})\n",
    "                     .reset_index())\n",
    "n_users_by_source.columns = ['source_id', 'n_users']\n",
    "costs_by_source = costs_by_source.reset_index()\n",
    "cac_by_source = costs_by_source.merge(n_users_by_source, on='source_id')\n",
    "cac_by_source['cac'] = cac_by_source['costs'] / cac_by_source['n_users']\n",
    "\n",
    "plt.figure(figsize=(12, 6))\n",
    "ax = sns.barplot(x=cac_by_source['source_id'], y=cac_by_source['cac'])\n",
    "ax.set_title('CAC(customer acquisition cost) by source')\n",
    "ax.set_ylabel('CAC');\n",
    "for i in ax.patches:\n",
    "    ax.text(i.get_x()+i.get_width()/10, i.get_height()-1, \n",
    "            str(round(i.get_height(), 2)), fontsize=18, color='white')\n",
    "plt.show()\n"
   ]
  },
  {
   "cell_type": "markdown",
   "metadata": {},
   "source": [
    "##### Комментарий:"
   ]
  },
  {
   "cell_type": "markdown",
   "metadata": {},
   "source": [
    "Перед нами график стоимости привлечения пользователя, в зависимости от рекламного ресурса.\n",
    "Дороже всего обходятся клиенты привлеченные рекламными ресурсами под номерами 2 и 3 (9,9 и 15,47 у.е. соответственно), а дешевле всего клиенты привлеченные рекламными ресурсами под номерами 9 и 10 (3,9 и 4,69 у.е. соответственно)."
   ]
  },
  {
   "cell_type": "markdown",
   "metadata": {},
   "source": [
    "_А теперь посчитаем сколько стоило привлечение одного клиента в зависимости от когорты:_"
   ]
  },
  {
   "cell_type": "code",
   "execution_count": null,
   "metadata": {
    "scrolled": false
   },
   "outputs": [],
   "source": [
    "n_users_by_cohort = (buyers_source[buyers_source['first_buy_month'] <= '2018-05']\n",
    "                     .reset_index()\n",
    "                     .groupby('first_buy_month')\n",
    "                     .agg({'uid': 'nunique'})\n",
    "                     .reset_index())\n",
    "n_users_by_cohort.columns = ['month', 'n_users']\n",
    "costs_by_month = costs_by_month.reset_index()\n",
    "cac_by_cohort = costs_by_month.merge(n_users_by_cohort, on='month')\n",
    "cac_by_cohort['cac'] = round(cac_by_cohort['costs'] / cac_by_cohort['n_users'], 2)\n",
    "\n",
    "plt.figure(figsize=(12, 6))\n",
    "ax = sns.barplot(x=cac_by_cohort['month'], y=cac_by_cohort['cac'])\n",
    "ax.set_title('CAC(customer acquisition cost) by cohort')\n",
    "ax.set_ylabel('CAC');\n",
    "for i in ax.patches:\n",
    "    ax.text(i.get_x()+.05, i.get_height()-.6, \n",
    "            str(round(i.get_height(), 2)), fontsize=18, color='white')\n",
    "plt.show()"
   ]
  },
  {
   "cell_type": "markdown",
   "metadata": {},
   "source": [
    "##### Комментарий:"
   ]
  },
  {
   "cell_type": "markdown",
   "metadata": {},
   "source": [
    "Самые дорогие пользователи были в августовской когорте, но у них и самый высокий LTV."
   ]
  },
  {
   "cell_type": "markdown",
   "metadata": {},
   "source": [
    "<a name='romi'></a>\n",
    "_Посчитаем ROMI, чтобы понять, на сколько окупились расходы на каждый рекламный ресурс:_  \n",
    "___\n",
    "ROMI (от англ. return on marketing investments) - возврат на маркетинговые инвестиции."
   ]
  },
  {
   "cell_type": "code",
   "execution_count": null,
   "metadata": {},
   "outputs": [],
   "source": [
    "ltv_by_source = ltv_by_source.reset_index()\n",
    "romi_by_source = (cac_by_source.loc[:,['source_id', 'cac']]\n",
    "                  .merge(ltv_by_source.loc[:,['source_id', 'ltv']], on='source_id'))\n",
    "romi_by_source['romi'] = romi_by_source['ltv'] / romi_by_source['cac']\n",
    "romi_by_source \n",
    "\n",
    "plt.figure(figsize=(12, 6))\n",
    "ax=sns.barplot(x=romi_by_source['source_id'], y=romi_by_source['romi'])\n",
    "ax.set_title('ROMI(return on marketing investments) by sorce')\n",
    "ax.set_ylabel('ROMI')\n",
    "vals = ax.get_yticks()\n",
    "ax.set_yticklabels(['{:.0%}'.format(x) for x in vals])\n",
    "for i in ax.patches:\n",
    "    ax.text(i.get_x()+.05, i.get_height()-.15, \n",
    "            str(round(i.get_height() *100, 1))+'%', fontsize=18, color='white')\n",
    "plt.show()"
   ]
  },
  {
   "cell_type": "markdown",
   "metadata": {},
   "source": [
    "##### Комментарий:"
   ]
  },
  {
   "cell_type": "markdown",
   "metadata": {},
   "source": [
    "Итак, мы наконец получили показатели окупаемости инвестиций в маркетинг (ROMI) в зависимости от рекламного ресурса.  \n",
    "На графике видно, что за жизненный цикл окупается только три рекламных ресурса: \n",
    "- 1-ый на 214%\n",
    "- 2-ой на 186%\n",
    "- 9-ый на 141%  \n",
    "А остальные не окупаются:\n",
    "- 4-ый на 98%\n",
    "- 5-ый на 86%\n",
    "- 10-ый на 71%\n",
    "- 3-ий лишь на 35%  \n",
    "Стоит сосредоточить инвестиции на успешных рекламных ресурсах, и менять концепцию в убыточных."
   ]
  },
  {
   "cell_type": "markdown",
   "metadata": {},
   "source": [
    "_Посмотрим как быстро окупались расходы на маркетинг в каждой из когорт:_"
   ]
  },
  {
   "cell_type": "code",
   "execution_count": null,
   "metadata": {},
   "outputs": [],
   "source": [
    "monthly_costs = costs.groupby('month').agg({'costs': 'sum'}).reset_index()\n",
    "unit = orders.merge(monthly_costs, left_on='first_buy_month', right_on='month')\n",
    "\n",
    "unit_cac = unit.groupby('month').agg({'costs': 'first', 'uid': 'nunique'}).reset_index()\n",
    "unit_cac.columns = ['month', 'costs', 'n_buyers']\n",
    "unit_cac['cac'] = unit_cac['costs'] / unit_cac['n_buyers']\n",
    "unit = unit.merge(unit_cac.loc[:,['month', 'n_buyers','cac']], on='month')\n",
    "\n",
    "unit_report = (unit\n",
    "               .groupby(['month', 'age'])\n",
    "               .agg({'revenue': 'sum', 'n_buyers': 'first', 'cac': 'first'})\n",
    "               .reset_index())\n",
    "\n",
    "unit_report.columns = ['cohort', 'age', 'revenue', 'n_buyers', 'cac']\n",
    "unit_report['ltv'] = unit_report['revenue'] / unit_report['n_buyers']\n",
    "unit_report['romi'] = unit_report['ltv'] / unit_report['cac']\n",
    "output = unit_report.pivot_table(index='cohort',\n",
    "                                 columns='age', \n",
    "                                 values='romi', \n",
    "                                 aggfunc='mean')\n",
    "romi_pivot = output.cumsum(axis=1).round(2)\n",
    "plt.figure(figsize=(15,6))\n",
    "plt.title('Cohorts: ROMI(return on marketing investments)')\n",
    "sns.heatmap(romi_pivot, annot=True, fmt='.0%', linewidths=1, linecolor='white')\n",
    "plt.show()"
   ]
  },
  {
   "cell_type": "markdown",
   "metadata": {},
   "source": [
    "_Выведем средние показатели окупаемости маркетинговых расходов на протяжении \"жизненного цикла\"(6 полных месяцев+нулевой):_"
   ]
  },
  {
   "cell_type": "code",
   "execution_count": null,
   "metadata": {
    "scrolled": false
   },
   "outputs": [],
   "source": [
    "mean_monthly_romi = pd.DataFrame(output.cumsum(axis=1).mean(axis=0)[:7],columns=['romi'])\n",
    "\n",
    "plt.figure(figsize=(12, 6))\n",
    "ax = sns.barplot(x=mean_monthly_romi.index, y=mean_monthly_romi.romi)\n",
    "ax.set_title('Average monthly ROMI during lifetime')\n",
    "ax.set_ylabel('ROMI');\n",
    "for i in ax.patches:\n",
    "    ax.text(i.get_x()+0.1, i.get_height()-0.07, \n",
    "            str(round(i.get_height() *100, 1))+'%', fontsize=18, color='white')\n",
    "plt.show()"
   ]
  },
  {
   "cell_type": "markdown",
   "metadata": {},
   "source": [
    "#### Вывод:"
   ]
  },
  {
   "cell_type": "markdown",
   "metadata": {},
   "source": [
    "Из тепловой карты окупаемости инвестиций в маркетинг(ROMI) по когортам видно, что первая когорта окупилась на 6-ой месяц, а сентябрьская когорта окупилась даже на 3-й месяц, но к сожалению это исключения, остальные когорты не успели окупиться в рассматриваемый нами период.  \n",
    "Отслеживая средний ROMI по месяцам, мы видим, что за жизненный цикл(6 месяцев) инвестиции в рекламу окупаются только на 89,7%."
   ]
  },
  {
   "cell_type": "markdown",
   "metadata": {},
   "source": [
    "Из тепловой карты окупаемости инвестиций в маркетинг(ROMI) по когортам видно, что первая когорта окупилась на 6-ой месяц, а сентябрьская когорта окупилась даже на 3-й месяц, но к сожалению это исключения, остальные когорты не успели окупиться в рассматриваемый нами период.  \n",
    "Отслеживая средний ROMI по месяцам, мы видим, что за жизненный цикл(6 месяцев) инвестиции в рекламу окупаются только на 89,7%."
   ]
  },
  {
   "cell_type": "markdown",
   "metadata": {},
   "source": [
    "## Общий вывод"
   ]
  },
  {
   "cell_type": "markdown",
   "metadata": {},
   "source": [
    "Средние показатели за весь период исследования:\n",
    "- DAU _(количество уникальных пользователей в день)_ : 907 (из них пользователи ПК 72,3% / пользователи мобильных устройств 27,7%)\n",
    "- DAU _(количество уникальных пользователей в день)_ : 5716 (из них пользователи ПК 71,6% / пользователи мобильных устройств 28,4%)\n",
    "- MAU _(количество уникальных пользователей в месяц)_ : 23228 (из них пользователи ПК 71% / пользователи мобильных устройств 29%)  \n",
    "Среднее количество сессий в день 987(из них 73% с десктопных и 27% с мобильных устройств), при этом обычно в день, один пользователь обращается к сервису только один раз.  \n",
    "В исследовании есть [графики](#dau) по всем этим показателям.  \n",
    "\n",
    "Чаще всего сессия длится 1 минуту, что может и достаточно для быстрой оценки основных показателей, но явно недостаточно для детального анализа и понимания принципов работы сервиса для потенциальных пользователей.\n",
    "Возможно следует высвечивать банер для новых посетителей со ссылкой к описанию сервиса и краткими инструкциями _с чего начать?_  \n",
    "\n",
    "Мы разделили всех приходящих пользователей на когорты, по месяцу прихода на сайт, чтобы посмотреть, как часто люди возвращаются.\n",
    "На [тепловой карте](#retention) мы видим, что в первой когорте пользователи чаще возвращались на сайт. Также  в исследовании есть график, из которого видно, что в течении жизненного цикла _(для удобства расчётов будем считать \"жизненный цикл\" равным полных 6 мес. + нулевой)_ с каждым месяцем процент возвращающихся пользователей падает (с 6,5% в первый месяц до 3,7% в шестой).  \n",
    "Такой маленький процент возврата возможно говорит о том, что потенциальные клиенты не всегда понимают суть предоставляемых услуг, а падение интереса со временем может говорить о не знании всех возможностей сервиса, что говорит в пользу создания простой и понятной памятки с возможностями приложения и инструкциями, а также страницы с ответом на часто задаваемые вопросы.\n",
    "\n",
    "В среднем для тех, кто начал пользоваться сервисом с мобильного устройства, от первого визита до покупки проходит на 2 часа больше, чем для тех кто им пользовался с компьютера (4 часа против 6 часов 20 минут), к тому же с каждой новой когортой для пользователей ПК этот показатель в основном падает, чего нельзя сказать о пользователях мобильных устройств.  \n",
    "Стоит поработать над мобильной версией, сделать её более удобной.  \n",
    "\n",
    "Обычно пользователи делают не больше одной покупки, возможно стоит делать рассылку для старых пользователей со спецпредложением.  \n",
    "\n",
    "Глядя на [тепловую карту](#aov) среднего чека мы видим, что в большинстве когорт средний чек со временем растёт. Также стоит отметить аномальные значения в третий месяц сентябрьской когорты(средний чек в этот месяц составил 138,7 у.е.), помимо этой когорты высокий средний чек был в первой когорте и в декабрьской. Необходимо запросить дополнительные данные по этим покупкам, что за пользователи их совершали какой порядок действий у них был, откуда пришли, возможно удастся повторить этот успех.  \n",
    "Средний же чек среди всех покупок равен 5 у.е.  \n",
    "\n",
    "А на [тепловой карте](#ltv) когорт, где средняя для когорты LTV(пожизненная ценность клиента) разбита по месяцам, видно, что наиболее продуктивный месяц сточки зрения LTV, первый.  \n",
    "\n",
    "_Для удобства расчётов будем считать \"жизненный цикл\" равным 6 полных месяцев + нулевой_  \n",
    "Средняя LTV(пожизненная ценность клиента) = 8,39 у.е.  \n",
    "\n",
    "Так же перед нами [график](#ltv_source) величины LTV в зависимости от рекламного источника, по которому пришли пользователи. На нём видно, что лучшие показатели LTV у пользователей с источников под номером 1 и 2 (11,9 и 18,4 у.е. соответственно), а худшие у источников под номерами 3, 9, 10 (5,5, 5,5 и 3,3 у.е. соответственно).\n",
    "\n",
    "Из приведенных выше [графиков](#costs_by_source) расходов на рекламные компании мы видим, что больше всего трат уходит на рекламный ресурс под номером 3, а меньшего всего на ресурсы под номерами 1, 9 и 10. Также мы видим, что с октября по март расходы на рекламные компании были увеличены. Что, судя по предыдущим графикам по средним чекам и ATL дало свои плоды, и отразилось не столько на привлечении новых клиентов, сколько на покупках уже существующих.  \n",
    "\n",
    "[График](#cac_by_source) стоимости привлечения пользователя, в зависимости от рекламного ресурса, говорит нам о следующем: дороже всего обходятся клиенты привлеченные рекламными ресурсами под номерами 2 и 3 (9,9 и 15,47 у.е. соответственно), а дешевле всего клиенты привлеченные рекламными ресурсами под номерами 9 и 10 (3,9 и 4,69 у.е. соответственно).   \n",
    "\n",
    "Анализируя вышеперечисленные метрики мы получили показатели окупаемости инвестиций в маркетинг (ROMI) в зависимости от рекламного ресурса.  \n",
    "На [графике](#romi) видно, что за жизненный цикл окупается только три рекламных ресурса: \n",
    "- 1-ый на 214%\n",
    "- 2-ой на 186%\n",
    "- 9-ый на 141%  \n",
    "А остальные не окупаются:\n",
    "- 4-ый на 98%\n",
    "- 5-ый на 86%\n",
    "- 10-ый на 71%\n",
    "- 3-ий лишь на 35%  \n",
    "Стоит сосредоточить инвестиции на успешных рекламных ресурсах, и менять концепцию в убыточных.  \n",
    "\n",
    "Из тепловой карты окупаемости инвестиций в маркетинг(ROMI) по когортам видно, что первая когорта окупилась на 6-ой месяц, а сентябрьская когорта окупилась даже на 3-й месяц, но к сожалению это исключения, остальные когорты не успели окупиться в рассматриваемый нами период.  \n",
    "Отслеживая средний ROMI по месяцам, мы видим, что за жизненный цикл(6 месяцев) инвестиции в рекламу окупаются только на 89,7%.  \n",
    "\n",
    "\n",
    "___\n",
    "Проводя это исследование мы пришли к выводу, что __наиболее привлекательные ресурсы под номерами:__\n",
    "- __1__ _(Самый большой показатель по ROMI - это значит что инвестиции быстрее всего себя окупят и можно будет вкладывать больше денег в развитие, а также очень хороший показатель LTV, и низкий CAC)_\n",
    "- __2__ _(Самый большой показатель по LTV - это значит, что клиенты с этого рекламного ресурса будут приносить хорошие деньги на протяжении всего срока пользования продуктом, а также хороший показатель по ROMI)_\n",
    "- __9__ _(Самый низкий показатель по CAC - а это значит что за меньшие деньги можно привлечь гораздо больше пользователей, а значит больше возможности получить дорогих сердцу покупателей, а также хороший показатель по ROMI)_"
   ]
  }
 ],
 "metadata": {
  "kernelspec": {
   "display_name": "Python 3",
   "language": "python",
   "name": "python3"
  },
  "language_info": {
   "codemirror_mode": {
    "name": "ipython",
    "version": 3
   },
   "file_extension": ".py",
   "mimetype": "text/x-python",
   "name": "python",
   "nbconvert_exporter": "python",
   "pygments_lexer": "ipython3",
   "version": "3.7.6"
  }
 },
 "nbformat": 4,
 "nbformat_minor": 2
}
